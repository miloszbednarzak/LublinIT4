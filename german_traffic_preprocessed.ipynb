{
 "cells": [
  {
   "cell_type": "code",
   "execution_count": 1,
   "metadata": {},
   "outputs": [
    {
     "name": "stderr",
     "output_type": "stream",
     "text": [
      "Using TensorFlow backend.\n"
     ]
    }
   ],
   "source": [
    "import pickle\n",
    "\n",
    "import numpy as np\n",
    "np.random.seed(108)\n",
    "import pandas as pd\n",
    "\n",
    "from keras.models import Sequential\n",
    "from keras.layers import Conv2D, MaxPool2D, Dense, Flatten, Dropout, BatchNormalization, Activation\n",
    "from keras.utils import to_categorical\n",
    "from keras.optimizers import Adam\n",
    "from keras.callbacks import TensorBoard, ModelCheckpoint, EarlyStopping, ReduceLROnPlateau\n",
    "from keras.preprocessing.image import ImageDataGenerator\n",
    "\n",
    "from skimage import color, exposure\n",
    "\n",
    "from tqdm import tqdm\n",
    "\n",
    "import matplotlib.pyplot as plt\n",
    "from matplotlib.figure import Figure\n",
    "\n",
    "from collections import Counter\n",
    "\n",
    "%matplotlib inline"
   ]
  },
  {
   "cell_type": "markdown",
   "metadata": {},
   "source": [
    "## Data"
   ]
  },
  {
   "cell_type": "code",
   "execution_count": 2,
   "metadata": {},
   "outputs": [
    {
     "name": "stdout",
     "output_type": "stream",
     "text": [
      "(34799, 32, 32, 3) (4410, 32, 32, 3)\n"
     ]
    }
   ],
   "source": [
    "training_file = \"input/train.p\"\n",
    "test_file = \"input/test.p\"\n",
    "\n",
    "with open(training_file, mode='rb') as f:\n",
    "    train = pickle.load(f)\n",
    "\n",
    "with open(test_file, mode='rb') as f:\n",
    "    test = pickle.load(f)\n",
    "    \n",
    "X_train, y_train = train['features'], train['labels']\n",
    "X_test, y_test = test['features'], test['labels']\n",
    "\n",
    "print(X_train.shape, X_test.shape)"
   ]
  },
  {
   "cell_type": "code",
   "execution_count": 3,
   "metadata": {},
   "outputs": [],
   "source": [
    "signnames = pd.read_csv('input/signnames.csv')"
   ]
  },
  {
   "cell_type": "code",
   "execution_count": 4,
   "metadata": {},
   "outputs": [],
   "source": [
    "if y_train.ndim == 1: \n",
    "    y_train = to_categorical(y_train)\n",
    "    \n",
    "if y_test.ndim == 1: \n",
    "    y_test = to_categorical(y_test)    \n",
    "    \n",
    "input_shape = X_train.shape[1:]\n",
    "\n",
    "traffic_labels_dict = signnames[['b']].to_dict()['b']\n",
    "num_classes = len(traffic_labels_dict)"
   ]
  },
  {
   "cell_type": "code",
   "execution_count": 5,
   "metadata": {
    "collapsed": true
   },
   "outputs": [],
   "source": [
    "def preproc_img(img):\n",
    "    hsv = color.rgb2hsv(img)\n",
    "    hsv[:, :, 2] = exposure.equalize_adapthist(hsv[:, :, 2])\n",
    "    img = color.hsv2rgb(hsv)\n",
    "\n",
    "    return img"
   ]
  },
  {
   "cell_type": "code",
   "execution_count": 6,
   "metadata": {},
   "outputs": [
    {
     "name": "stderr",
     "output_type": "stream",
     "text": [
      "  0%|          | 0/34799 [00:00<?, ?it/s]/anaconda/lib/python3.6/site-packages/skimage/util/dtype.py:110: UserWarning: Possible precision loss when converting from float64 to uint16\n",
      "  \"%s to %s\" % (dtypeobj_in, dtypeobj))\n",
      "100%|██████████| 34799/34799 [10:17<00:00, 56.34it/s]\n"
     ]
    }
   ],
   "source": [
    "X_train_prp = X_train.copy().astype(np.float32)\n",
    "X_test_prp = X_test.copy().astype(np.float32)\n",
    "\n",
    "for i in tqdm(range(X_train.shape[0])):\n",
    "    X_train_prp[i] = preproc_img(X_train[i])"
   ]
  },
  {
   "cell_type": "code",
   "execution_count": 7,
   "metadata": {},
   "outputs": [
    {
     "name": "stderr",
     "output_type": "stream",
     "text": [
      "  0%|          | 0/4410 [00:00<?, ?it/s]/anaconda/lib/python3.6/site-packages/skimage/util/dtype.py:110: UserWarning: Possible precision loss when converting from float64 to uint16\n",
      "  \"%s to %s\" % (dtypeobj_in, dtypeobj))\n",
      "100%|██████████| 4410/4410 [01:22<00:00, 53.18it/s]\n"
     ]
    }
   ],
   "source": [
    "for i in tqdm(range(X_test.shape[0])):\n",
    "    X_test_prp[i] = preproc_img(X_test[i])"
   ]
  },
  {
   "cell_type": "code",
   "execution_count": 8,
   "metadata": {},
   "outputs": [],
   "source": [
    "datagen = ImageDataGenerator(featurewise_center=False,\n",
    "                             featurewise_std_normalization=False,\n",
    "                             width_shift_range=0.1,\n",
    "                             height_shift_range=0.1,\n",
    "                             zoom_range=0.2,\n",
    "                             shear_range=0.1,\n",
    "                             rotation_range=10.)\n",
    "\n",
    "datagen.fit(X_train_prp)"
   ]
  },
  {
   "cell_type": "markdown",
   "metadata": {},
   "source": [
    "## Model"
   ]
  },
  {
   "cell_type": "code",
   "execution_count": 9,
   "metadata": {},
   "outputs": [
    {
     "name": "stdout",
     "output_type": "stream",
     "text": [
      "_________________________________________________________________\n",
      "Layer (type)                 Output Shape              Param #   \n",
      "=================================================================\n",
      "conv2d_1 (Conv2D)            (None, 32, 32, 32)        896       \n",
      "_________________________________________________________________\n",
      "batch_normalization_1 (Batch (None, 32, 32, 32)        128       \n",
      "_________________________________________________________________\n",
      "activation_1 (Activation)    (None, 32, 32, 32)        0         \n",
      "_________________________________________________________________\n",
      "conv2d_2 (Conv2D)            (None, 30, 30, 32)        9248      \n",
      "_________________________________________________________________\n",
      "batch_normalization_2 (Batch (None, 30, 30, 32)        128       \n",
      "_________________________________________________________________\n",
      "activation_2 (Activation)    (None, 30, 30, 32)        0         \n",
      "_________________________________________________________________\n",
      "max_pooling2d_1 (MaxPooling2 (None, 15, 15, 32)        0         \n",
      "_________________________________________________________________\n",
      "dropout_1 (Dropout)          (None, 15, 15, 32)        0         \n",
      "_________________________________________________________________\n",
      "conv2d_3 (Conv2D)            (None, 15, 15, 64)        18496     \n",
      "_________________________________________________________________\n",
      "batch_normalization_3 (Batch (None, 15, 15, 64)        256       \n",
      "_________________________________________________________________\n",
      "activation_3 (Activation)    (None, 15, 15, 64)        0         \n",
      "_________________________________________________________________\n",
      "conv2d_4 (Conv2D)            (None, 13, 13, 64)        36928     \n",
      "_________________________________________________________________\n",
      "batch_normalization_4 (Batch (None, 13, 13, 64)        256       \n",
      "_________________________________________________________________\n",
      "activation_4 (Activation)    (None, 13, 13, 64)        0         \n",
      "_________________________________________________________________\n",
      "max_pooling2d_2 (MaxPooling2 (None, 6, 6, 64)          0         \n",
      "_________________________________________________________________\n",
      "dropout_2 (Dropout)          (None, 6, 6, 64)          0         \n",
      "_________________________________________________________________\n",
      "conv2d_5 (Conv2D)            (None, 6, 6, 128)         73856     \n",
      "_________________________________________________________________\n",
      "batch_normalization_5 (Batch (None, 6, 6, 128)         512       \n",
      "_________________________________________________________________\n",
      "activation_5 (Activation)    (None, 6, 6, 128)         0         \n",
      "_________________________________________________________________\n",
      "conv2d_6 (Conv2D)            (None, 4, 4, 128)         147584    \n",
      "_________________________________________________________________\n",
      "batch_normalization_6 (Batch (None, 4, 4, 128)         512       \n",
      "_________________________________________________________________\n",
      "activation_6 (Activation)    (None, 4, 4, 128)         0         \n",
      "_________________________________________________________________\n",
      "max_pooling2d_3 (MaxPooling2 (None, 2, 2, 128)         0         \n",
      "_________________________________________________________________\n",
      "dropout_3 (Dropout)          (None, 2, 2, 128)         0         \n",
      "_________________________________________________________________\n",
      "flatten_1 (Flatten)          (None, 512)               0         \n",
      "_________________________________________________________________\n",
      "dense_1 (Dense)              (None, 128)               65664     \n",
      "_________________________________________________________________\n",
      "dropout_4 (Dropout)          (None, 128)               0         \n",
      "_________________________________________________________________\n",
      "dense_2 (Dense)              (None, 43)                5547      \n",
      "=================================================================\n",
      "Total params: 360,011\n",
      "Trainable params: 359,115\n",
      "Non-trainable params: 896\n",
      "_________________________________________________________________\n"
     ]
    }
   ],
   "source": [
    "def doubled_cnn3_with_bn():\n",
    "    model = Sequential()\n",
    "    \n",
    "    model.add(Conv2D(32, kernel_size=(3, 3), padding='same', input_shape=input_shape))\n",
    "    model.add(BatchNormalization())\n",
    "    model.add(Activation('relu'))\n",
    "    \n",
    "    model.add(Conv2D(32, kernel_size=(3, 3)))\n",
    "    model.add(BatchNormalization())\n",
    "    model.add(Activation('relu'))\n",
    "    model.add(MaxPool2D(pool_size=(2, 2)))\n",
    "    model.add(Dropout(0.2))\n",
    "    \n",
    "    \n",
    "    model.add(Conv2D(64, kernel_size=(3, 3), padding='same'))\n",
    "    model.add(BatchNormalization())\n",
    "    model.add(Activation('relu'))\n",
    "    \n",
    "    model.add(Conv2D(64, kernel_size=(3, 3)))\n",
    "    model.add(BatchNormalization())\n",
    "    model.add(Activation('relu'))\n",
    "    model.add(MaxPool2D(pool_size=(2, 2)))\n",
    "    model.add(Dropout(0.2))\n",
    "    \n",
    "    \n",
    "    model.add(Conv2D(128, kernel_size=(3, 3), padding='same'))\n",
    "    model.add(BatchNormalization())\n",
    "    model.add(Activation('relu'))\n",
    "    \n",
    "    model.add(Conv2D(128, kernel_size=(3, 3)))\n",
    "    model.add(BatchNormalization())\n",
    "    model.add(Activation('relu'))\n",
    "    model.add(MaxPool2D(pool_size=(2, 2)))\n",
    "    model.add(Dropout(0.2))\n",
    "        \n",
    "    model.add(Flatten())\n",
    "        \n",
    "    model.add(Dense(128, activation='relu'))\n",
    "    model.add(Dropout(0.3))\n",
    "    model.add(Dense(num_classes, activation='softmax'))\n",
    "    \n",
    "    return model\n",
    "\n",
    "\n",
    "model = doubled_cnn3_with_bn()\n",
    "model.compile(loss='categorical_crossentropy', optimizer='Adam', metrics=['accuracy'])\n",
    "model.summary()"
   ]
  },
  {
   "cell_type": "code",
   "execution_count": 12,
   "metadata": {},
   "outputs": [],
   "source": [
    "# Callbacks\n",
    "tensorboard = TensorBoard('./logs/preproc', write_images=False)\n",
    "model_cp = ModelCheckpoint('./logs/model/preproc/best_model.hdf5', save_best_only=True)\n",
    "early_stop = EarlyStopping(patience=6)\n",
    "reduce_rl = ReduceLROnPlateau(factor=0.2, patience=4)"
   ]
  },
  {
   "cell_type": "markdown",
   "metadata": {},
   "source": [
    "## Train"
   ]
  },
  {
   "cell_type": "code",
   "execution_count": 13,
   "metadata": {},
   "outputs": [
    {
     "name": "stdout",
     "output_type": "stream",
     "text": [
      "Epoch 1/30\n",
      "1088/1087 [==============================] - 583s 535ms/step - loss: 0.3048 - acc: 0.9020 - val_loss: 0.1013 - val_acc: 0.9678\n",
      "Epoch 2/30\n",
      "1088/1087 [==============================] - 524s 481ms/step - loss: 0.1880 - acc: 0.9409 - val_loss: 0.1601 - val_acc: 0.9587\n",
      "Epoch 3/30\n",
      "1088/1087 [==============================] - 523s 481ms/step - loss: 0.1372 - acc: 0.9582 - val_loss: 0.0478 - val_acc: 0.9819\n",
      "Epoch 4/30\n",
      "1088/1087 [==============================] - 528s 485ms/step - loss: 0.1168 - acc: 0.9629 - val_loss: 0.0668 - val_acc: 0.9798\n",
      "Epoch 5/30\n",
      "1088/1087 [==============================] - 526s 484ms/step - loss: 0.0966 - acc: 0.9708 - val_loss: 0.0862 - val_acc: 0.9796\n",
      "Epoch 6/30\n",
      "1088/1087 [==============================] - 537s 493ms/step - loss: 0.0907 - acc: 0.9726 - val_loss: 0.0658 - val_acc: 0.9794\n",
      "Epoch 7/30\n",
      "1088/1087 [==============================] - 530s 487ms/step - loss: 0.0761 - acc: 0.9764 - val_loss: 0.0767 - val_acc: 0.9764\n",
      "Epoch 8/30\n",
      "1088/1087 [==============================] - 531s 488ms/step - loss: 0.0697 - acc: 0.9793 - val_loss: 0.0867 - val_acc: 0.9778\n",
      "Epoch 9/30\n",
      "1088/1087 [==============================] - 530s 487ms/step - loss: 0.0344 - acc: 0.9898 - val_loss: 0.0444 - val_acc: 0.9887\n",
      "Epoch 10/30\n",
      "1088/1087 [==============================] - 548s 504ms/step - loss: 0.0269 - acc: 0.9918 - val_loss: 0.0644 - val_acc: 0.9857\n",
      "Epoch 11/30\n",
      "1088/1087 [==============================] - 493s 453ms/step - loss: 0.0274 - acc: 0.9914 - val_loss: 0.0217 - val_acc: 0.9943\n",
      "Epoch 12/30\n",
      "1088/1087 [==============================] - 486s 447ms/step - loss: 0.0231 - acc: 0.9931 - val_loss: 0.0262 - val_acc: 0.9925\n",
      "Epoch 13/30\n",
      "1088/1087 [==============================] - 506s 465ms/step - loss: 0.0233 - acc: 0.9931 - val_loss: 0.0353 - val_acc: 0.9884\n",
      "Epoch 14/30\n",
      "1088/1087 [==============================] - 480s 441ms/step - loss: 0.0205 - acc: 0.9934 - val_loss: 0.0378 - val_acc: 0.9887\n",
      "Epoch 15/30\n",
      "1088/1087 [==============================] - 479s 440ms/step - loss: 0.0222 - acc: 0.9942 - val_loss: 0.0279 - val_acc: 0.9887\n",
      "Epoch 16/30\n",
      "1088/1087 [==============================] - 481s 442ms/step - loss: 0.0191 - acc: 0.9942 - val_loss: 0.0380 - val_acc: 0.9898\n",
      "Epoch 17/30\n",
      "1088/1087 [==============================] - 481s 442ms/step - loss: 0.0156 - acc: 0.9947 - val_loss: 0.0296 - val_acc: 0.9909\n"
     ]
    }
   ],
   "source": [
    "history = model.fit_generator(datagen.flow(X_train_prp, y_train, batch_size=32),\n",
    "                                           steps_per_epoch=X_train.shape[0]/32,\n",
    "                                           epochs=30,\n",
    "                                           verbose=1,\n",
    "                                           validation_data=(X_test_prp, y_test),\n",
    "                                           callbacks=[tensorboard, model_cp, early_stop, reduce_rl])"
   ]
  },
  {
   "cell_type": "markdown",
   "metadata": {},
   "source": [
    "# Load best model"
   ]
  },
  {
   "cell_type": "code",
   "execution_count": 16,
   "metadata": {},
   "outputs": [],
   "source": [
    "model.load_weights('./logs/model/preproc/best_model.hdf5')"
   ]
  },
  {
   "cell_type": "markdown",
   "metadata": {},
   "source": [
    "## Evaluate"
   ]
  },
  {
   "cell_type": "code",
   "execution_count": 19,
   "metadata": {},
   "outputs": [
    {
     "name": "stdout",
     "output_type": "stream",
     "text": [
      "Test accuracy: 99.43%\n"
     ]
    }
   ],
   "source": [
    "score = model.evaluate(X_test_prp, y_test, verbose=0)\n",
    "# print(f'Test loss: {round(score[0], 2)}%')\n",
    "print(f'Test accuracy: {round(score[1]*100, 2)}%')\n",
    "\n",
    "#print(f'Error: {100-score[1]*100}%')"
   ]
  },
  {
   "cell_type": "code",
   "execution_count": 20,
   "metadata": {},
   "outputs": [
    {
     "data": {
      "image/png": "[encoded data removed]",
      "text/plain": [
       "<matplotlib.figure.Figure at 0x109e91780>"
      ]
     },
     "metadata": {},
     "output_type": "display_data"
    }
   ],
   "source": [
    "def draw_learning_curve(history, key='acc', ylim=(0.8, 1.01)):\n",
    "    plt.figure(figsize=(12,6))\n",
    "    plt.plot(history.history[key])\n",
    "    plt.plot(history.history['val_' + key])\n",
    "    plt.title('Learning Curve')\n",
    "    plt.ylabel(key.title())\n",
    "    plt.xlabel('Epoch')\n",
    "    plt.ylim(ylim)\n",
    "    plt.legend(['train', 'test'], loc='best')\n",
    "    plt.show()\n",
    "    \n",
    "draw_learning_curve(history, key='acc', ylim=(0.5, 1.))\n",
    "# draw_learning_curve(history, key='loss', ylim=(0., 1.))"
   ]
  },
  {
   "cell_type": "code",
   "execution_count": null,
   "metadata": {},
   "outputs": [],
   "source": []
  }
 ],
 "metadata": {
  "kernelspec": {
   "display_name": "Python 3",
   "language": "python",
   "name": "python3"
  },
  "language_info": {
   "codemirror_mode": {
    "name": "ipython",
    "version": 3
   },
   "file_extension": ".py",
   "mimetype": "text/x-python",
   "name": "python",
   "nbconvert_exporter": "python",
   "pygments_lexer": "ipython3",
   "version": "3.6.0"
  }
 },
 "nbformat": 4,
 "nbformat_minor": 2
}
